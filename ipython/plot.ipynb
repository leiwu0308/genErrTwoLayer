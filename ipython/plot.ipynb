{
 "cells": [
  {
   "cell_type": "code",
   "execution_count": 2,
   "metadata": {},
   "outputs": [
    {
     "name": "stdout",
     "output_type": "stream",
     "text": [
      "The autoreload extension is already loaded. To reload it, use:\n",
      "  %reload_ext autoreload\n"
     ]
    }
   ],
   "source": [
    "import numpy as np\n",
    "%matplotlib inline\n",
    "import matplotlib.pyplot as plt\n",
    "\n",
    "%load_ext autoreload\n",
    "%autoreload 2\n",
    "\n",
    "from models import TwoLayerNet\n",
    "from trainer import *\n",
    "from data import load_mnist,load_cifar\n",
    "\n",
    "\n",
    "BATCH_SIZE = 100\n",
    "NSAMPLES = 10000\n",
    "\n",
    "# 使用数据增强\n",
    "train_dl, test_dl = load_mnist(BATCH_SIZE,\n",
    "                               nsamples=NSAMPLES,\n",
    "                               root='./data/mnist/')"
   ]
  },
  {
   "cell_type": "markdown",
   "metadata": {},
   "source": [
    "## Read data"
   ]
  },
  {
   "cell_type": "code",
   "execution_count": null,
   "metadata": {},
   "outputs": [],
   "source": [
    "def parse_filename(filename):\n",
    "    strs = filename.\n",
    "\n",
    "def read_data(dir_name,exclude_prefix='cifar'):\n",
    "    filename_list = os.listdir(dir_name)\n",
    "    res  = defaultdict(list)\n",
    "\n",
    "    for i,filename in enumerate(filename_list):\n",
    "        if filename.startswith(exclude_prefix):\n",
    "            continue\n",
    "            \n",
    "        cfg = parse_filename(filename)\n",
    "        \n",
    "        net = TwoLayerNet(784,cgf['width'],10)\n",
    "        net.load_state_dict(torch.load(\n",
    "                        os.path.join(dir_name,filename))\n",
    "                    )\n",
    "        net = net.cuda()\n",
    "\n",
    "        pthnorm = net.path_norm().data[0]\n",
    "        tr_loss, tr_acc = eval(net,criterion,train_dl)\n",
    "        te_loss, te_acc = eval(net,criterion,test_dl)\n",
    "\n",
    "        res[lmbd].append((width,pthnorm,tr_acc,te_acc,tr_loss,te_loss))\n",
    "\n",
    "        print('processing %d-th file is done'%(i+1))\n"
   ]
  }
 ],
 "metadata": {
  "kernelspec": {
   "display_name": "Python 3",
   "language": "python",
   "name": "python3"
  },
  "language_info": {
   "codemirror_mode": {
    "name": "ipython",
    "version": 3
   },
   "file_extension": ".py",
   "mimetype": "text/x-python",
   "name": "python",
   "nbconvert_exporter": "python",
   "pygments_lexer": "ipython3",
   "version": "3.6.5"
  }
 },
 "nbformat": 4,
 "nbformat_minor": 2
}
